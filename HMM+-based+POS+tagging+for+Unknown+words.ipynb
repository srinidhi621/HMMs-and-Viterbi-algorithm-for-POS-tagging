{
 "cells": [
  {
   "cell_type": "markdown",
   "metadata": {},
   "source": [
    "## POS tagging using modified Viterbi"
   ]
  },
  {
   "cell_type": "markdown",
   "metadata": {},
   "source": [
    "###  Using the TreeBank universal tag set corpus, build a Viterbi PoS tagger, then enhance it to solve the problem of unknown words"
   ]
  },
  {
   "cell_type": "markdown",
   "metadata": {},
   "source": [
    "### Data Preparation"
   ]
  },
  {
   "cell_type": "code",
   "execution_count": 1,
   "metadata": {},
   "outputs": [],
   "source": [
    "#Importing libraries\n",
    "import nltk, re, pprint\n",
    "import numpy as np\n",
    "import pandas as pd\n",
    "import requests\n",
    "import matplotlib.pyplot as plt\n",
    "import seaborn as sns\n",
    "import pprint, time\n",
    "import random\n",
    "from sklearn.model_selection import train_test_split\n",
    "from nltk.tokenize import word_tokenize"
   ]
  },
  {
   "cell_type": "code",
   "execution_count": 2,
   "metadata": {},
   "outputs": [],
   "source": [
    "# reading the Treebank tagged sentences\n",
    "nltk_data = list(nltk.corpus.treebank.tagged_sents(tagset='universal'))"
   ]
  },
  {
   "cell_type": "code",
   "execution_count": 3,
   "metadata": {},
   "outputs": [
    {
     "name": "stdout",
     "output_type": "stream",
     "text": [
      "[[('Pierre', 'NOUN'), ('Vinken', 'NOUN'), (',', '.'), ('61', 'NUM'), ('years', 'NOUN'), ('old', 'ADJ'), (',', '.'), ('will', 'VERB'), ('join', 'VERB'), ('the', 'DET'), ('board', 'NOUN'), ('as', 'ADP'), ('a', 'DET'), ('nonexecutive', 'ADJ'), ('director', 'NOUN'), ('Nov.', 'NOUN'), ('29', 'NUM'), ('.', '.')], [('Mr.', 'NOUN'), ('Vinken', 'NOUN'), ('is', 'VERB'), ('chairman', 'NOUN'), ('of', 'ADP'), ('Elsevier', 'NOUN'), ('N.V.', 'NOUN'), (',', '.'), ('the', 'DET'), ('Dutch', 'NOUN'), ('publishing', 'VERB'), ('group', 'NOUN'), ('.', '.')], [('Rudolph', 'NOUN'), ('Agnew', 'NOUN'), (',', '.'), ('55', 'NUM'), ('years', 'NOUN'), ('old', 'ADJ'), ('and', 'CONJ'), ('former', 'ADJ'), ('chairman', 'NOUN'), ('of', 'ADP'), ('Consolidated', 'NOUN'), ('Gold', 'NOUN'), ('Fields', 'NOUN'), ('PLC', 'NOUN'), (',', '.'), ('was', 'VERB'), ('named', 'VERB'), ('*-1', 'X'), ('a', 'DET'), ('nonexecutive', 'ADJ'), ('director', 'NOUN'), ('of', 'ADP'), ('this', 'DET'), ('British', 'ADJ'), ('industrial', 'ADJ'), ('conglomerate', 'NOUN'), ('.', '.')], [('A', 'DET'), ('form', 'NOUN'), ('of', 'ADP'), ('asbestos', 'NOUN'), ('once', 'ADV'), ('used', 'VERB'), ('*', 'X'), ('*', 'X'), ('to', 'PRT'), ('make', 'VERB'), ('Kent', 'NOUN'), ('cigarette', 'NOUN'), ('filters', 'NOUN'), ('has', 'VERB'), ('caused', 'VERB'), ('a', 'DET'), ('high', 'ADJ'), ('percentage', 'NOUN'), ('of', 'ADP'), ('cancer', 'NOUN'), ('deaths', 'NOUN'), ('among', 'ADP'), ('a', 'DET'), ('group', 'NOUN'), ('of', 'ADP'), ('workers', 'NOUN'), ('exposed', 'VERB'), ('*', 'X'), ('to', 'PRT'), ('it', 'PRON'), ('more', 'ADV'), ('than', 'ADP'), ('30', 'NUM'), ('years', 'NOUN'), ('ago', 'ADP'), (',', '.'), ('researchers', 'NOUN'), ('reported', 'VERB'), ('0', 'X'), ('*T*-1', 'X'), ('.', '.')], [('The', 'DET'), ('asbestos', 'NOUN'), ('fiber', 'NOUN'), (',', '.'), ('crocidolite', 'NOUN'), (',', '.'), ('is', 'VERB'), ('unusually', 'ADV'), ('resilient', 'ADJ'), ('once', 'ADP'), ('it', 'PRON'), ('enters', 'VERB'), ('the', 'DET'), ('lungs', 'NOUN'), (',', '.'), ('with', 'ADP'), ('even', 'ADV'), ('brief', 'ADJ'), ('exposures', 'NOUN'), ('to', 'PRT'), ('it', 'PRON'), ('causing', 'VERB'), ('symptoms', 'NOUN'), ('that', 'DET'), ('*T*-1', 'X'), ('show', 'VERB'), ('up', 'PRT'), ('decades', 'NOUN'), ('later', 'ADJ'), (',', '.'), ('researchers', 'NOUN'), ('said', 'VERB'), ('0', 'X'), ('*T*-2', 'X'), ('.', '.')], [('Lorillard', 'NOUN'), ('Inc.', 'NOUN'), (',', '.'), ('the', 'DET'), ('unit', 'NOUN'), ('of', 'ADP'), ('New', 'ADJ'), ('York-based', 'ADJ'), ('Loews', 'NOUN'), ('Corp.', 'NOUN'), ('that', 'DET'), ('*T*-2', 'X'), ('makes', 'VERB'), ('Kent', 'NOUN'), ('cigarettes', 'NOUN'), (',', '.'), ('stopped', 'VERB'), ('using', 'VERB'), ('crocidolite', 'NOUN'), ('in', 'ADP'), ('its', 'PRON'), ('Micronite', 'NOUN'), ('cigarette', 'NOUN'), ('filters', 'NOUN'), ('in', 'ADP'), ('1956', 'NUM'), ('.', '.')], [('Although', 'ADP'), ('preliminary', 'ADJ'), ('findings', 'NOUN'), ('were', 'VERB'), ('reported', 'VERB'), ('*-2', 'X'), ('more', 'ADV'), ('than', 'ADP'), ('a', 'DET'), ('year', 'NOUN'), ('ago', 'ADP'), (',', '.'), ('the', 'DET'), ('latest', 'ADJ'), ('results', 'NOUN'), ('appear', 'VERB'), ('in', 'ADP'), ('today', 'NOUN'), (\"'s\", 'PRT'), ('New', 'NOUN'), ('England', 'NOUN'), ('Journal', 'NOUN'), ('of', 'ADP'), ('Medicine', 'NOUN'), (',', '.'), ('a', 'DET'), ('forum', 'NOUN'), ('likely', 'ADJ'), ('*', 'X'), ('to', 'PRT'), ('bring', 'VERB'), ('new', 'ADJ'), ('attention', 'NOUN'), ('to', 'PRT'), ('the', 'DET'), ('problem', 'NOUN'), ('.', '.')], [('A', 'DET'), ('Lorillard', 'NOUN'), ('spokewoman', 'NOUN'), ('said', 'VERB'), (',', '.'), ('``', '.'), ('This', 'DET'), ('is', 'VERB'), ('an', 'DET'), ('old', 'ADJ'), ('story', 'NOUN'), ('.', '.')], [('We', 'PRON'), (\"'re\", 'VERB'), ('talking', 'VERB'), ('about', 'ADP'), ('years', 'NOUN'), ('ago', 'ADP'), ('before', 'ADP'), ('anyone', 'NOUN'), ('heard', 'VERB'), ('of', 'ADP'), ('asbestos', 'NOUN'), ('having', 'VERB'), ('any', 'DET'), ('questionable', 'ADJ'), ('properties', 'NOUN'), ('.', '.')], [('There', 'DET'), ('is', 'VERB'), ('no', 'DET'), ('asbestos', 'NOUN'), ('in', 'ADP'), ('our', 'PRON'), ('products', 'NOUN'), ('now', 'ADV'), ('.', '.'), (\"''\", '.')]]\n"
     ]
    }
   ],
   "source": [
    "# first few tagged sentences\n",
    "print(nltk_data[:10])"
   ]
  },
  {
   "cell_type": "code",
   "execution_count": 4,
   "metadata": {},
   "outputs": [
    {
     "name": "stdout",
     "output_type": "stream",
     "text": [
      "3718\n",
      "196\n",
      "[[('The', 'DET'), ('Dow', 'NOUN'), ('Jones', 'NOUN'), ('Industrial', 'NOUN'), ('Average', 'NOUN'), (',', '.'), ('which', 'DET'), ('*T*-1', 'X'), ('had', 'VERB'), ('jumped', 'VERB'), ('41.60', 'NUM'), ('points', 'NOUN'), ('on', 'ADP'), ('Tuesday', 'NOUN'), (',', '.'), ('drifted', 'VERB'), ('on', 'ADP'), ('either', 'DET'), ('side', 'NOUN'), ('of', 'ADP'), ('its', 'PRON'), ('previous', 'ADJ'), ('close', 'NOUN'), ('and', 'CONJ'), ('finished', 'VERB'), ('with', 'ADP'), ('a', 'DET'), ('gain', 'NOUN'), ('of', 'ADP'), ('just', 'ADV'), ('0.82', 'NUM'), ('at', 'ADP'), ('2645.90', 'NUM'), ('.', '.')], [('Ballot', 'NOUN'), ('watchers', 'NOUN'), ('say', 'VERB'), ('0', 'X'), ('attention', 'NOUN'), ('already', 'ADV'), ('is', 'VERB'), ('focused', 'VERB'), ('*-1', 'X'), ('on', 'ADP'), ('the', 'DET'), ('1990', 'NUM'), ('elections', 'NOUN'), ('.', '.')], [('She', 'PRON'), ('took', 'VERB'), ('her', 'PRON'), ('business', 'NOUN'), ('to', 'PRT'), ('First', 'NOUN'), ('Atlanta', 'NOUN'), ('.', '.')], [('The', 'DET'), ('latest', 'ADJ'), ('results', 'NOUN'), ('include', 'VERB'), ('some', 'DET'), ('unusual', 'ADJ'), ('write-downs', 'NOUN'), (',', '.'), ('which', 'DET'), ('*T*-1', 'X'), ('had', 'VERB'), ('an', 'DET'), ('after-tax', 'ADJ'), ('impact', 'NOUN'), ('of', 'ADP'), ('$', '.'), ('4.9', 'NUM'), ('million', 'NUM'), ('*U*', 'X'), ('.', '.')], [('Until', 'ADP'), ('the', 'DET'), ('other', 'ADJ'), ('day', 'NOUN'), (',', '.'), ('you', 'PRON'), ('as', 'ADP'), ('an', 'DET'), ('ordinary', 'ADJ'), ('citizen', 'NOUN'), ('of', 'ADP'), ('this', 'DET'), ('democracy', 'NOUN'), ('had', 'VERB'), ('no', 'DET'), ('right', 'NOUN'), ('*', 'X'), ('to', 'PRT'), ('see', 'VERB'), ('what', 'PRON'), ('your', 'PRON'), ('government', 'NOUN'), ('was', 'VERB'), ('telling', 'VERB'), ('your', 'PRON'), ('cousins', 'NOUN'), ('around', 'ADP'), ('the', 'DET'), ('world', 'NOUN'), ('*T*-21', 'X'), ('.', '.')]]\n"
     ]
    }
   ],
   "source": [
    "# Splitting into train and test\n",
    "random.seed(1234)\n",
    "train_set, test_set = train_test_split(nltk_data,test_size=0.05)\n",
    "\n",
    "print(len(train_set))\n",
    "print(len(test_set))\n",
    "print(train_set[:5])"
   ]
  },
  {
   "cell_type": "code",
   "execution_count": 5,
   "metadata": {},
   "outputs": [
    {
     "data": {
      "text/plain": [
       "95614"
      ]
     },
     "execution_count": 5,
     "metadata": {},
     "output_type": "execute_result"
    }
   ],
   "source": [
    "# Getting list of tagged words\n",
    "train_tagged_words = [tup for sent in train_set for tup in sent]\n",
    "len(train_tagged_words)"
   ]
  },
  {
   "cell_type": "code",
   "execution_count": 6,
   "metadata": {},
   "outputs": [
    {
     "data": {
      "text/plain": [
       "['The',\n",
       " 'Dow',\n",
       " 'Jones',\n",
       " 'Industrial',\n",
       " 'Average',\n",
       " ',',\n",
       " 'which',\n",
       " '*T*-1',\n",
       " 'had',\n",
       " 'jumped']"
      ]
     },
     "execution_count": 6,
     "metadata": {},
     "output_type": "execute_result"
    }
   ],
   "source": [
    "# tokens \n",
    "tokens = [pair[0] for pair in train_tagged_words]\n",
    "tokens[:10]"
   ]
  },
  {
   "cell_type": "code",
   "execution_count": 7,
   "metadata": {},
   "outputs": [
    {
     "name": "stdout",
     "output_type": "stream",
     "text": [
      "12071\n"
     ]
    }
   ],
   "source": [
    "# vocabulary\n",
    "V = set(tokens)\n",
    "print(len(V))"
   ]
  },
  {
   "cell_type": "code",
   "execution_count": 8,
   "metadata": {},
   "outputs": [
    {
     "data": {
      "text/plain": [
       "12"
      ]
     },
     "execution_count": 8,
     "metadata": {},
     "output_type": "execute_result"
    }
   ],
   "source": [
    "# number of tags\n",
    "T = set([pair[1] for pair in train_tagged_words])\n",
    "len(T)"
   ]
  },
  {
   "cell_type": "code",
   "execution_count": 9,
   "metadata": {},
   "outputs": [
    {
     "name": "stdout",
     "output_type": "stream",
     "text": [
      "{'X', 'NUM', 'ADJ', 'CONJ', 'PRT', 'NOUN', 'PRON', 'VERB', 'ADV', '.', 'DET', 'ADP'}\n"
     ]
    }
   ],
   "source": [
    "print(T)"
   ]
  },
  {
   "cell_type": "markdown",
   "metadata": {},
   "source": [
    "##  POS Tagging Algorithm - HMM\n",
    "### Emission Probabilities"
   ]
  },
  {
   "cell_type": "code",
   "execution_count": 10,
   "metadata": {},
   "outputs": [],
   "source": [
    "# computing P(w/t) and storing in T x V matrix\n",
    "t = len(T)\n",
    "v = len(V)\n",
    "w_given_t = np.zeros((t, v))"
   ]
  },
  {
   "cell_type": "code",
   "execution_count": 11,
   "metadata": {},
   "outputs": [],
   "source": [
    "# compute word given tag: Emission Probability\n",
    "def word_given_tag(word, tag, train_bag = train_tagged_words):\n",
    "    tag_list = [pair for pair in train_bag if pair[1]==tag]\n",
    "    count_tag = len(tag_list)\n",
    "    w_given_tag_list = [pair[0] for pair in tag_list if pair[0]==word]\n",
    "    count_w_given_tag = len(w_given_tag_list)\n",
    "    \n",
    "    return (count_w_given_tag, count_tag)"
   ]
  },
  {
   "cell_type": "markdown",
   "metadata": {},
   "source": [
    "### Transition Probabilities"
   ]
  },
  {
   "cell_type": "code",
   "execution_count": 12,
   "metadata": {},
   "outputs": [],
   "source": [
    "# compute tag given tag: tag2(t2) given tag1 (t1), i.e. Transition Probability\n",
    "\n",
    "def t2_given_t1(t2, t1, train_bag = train_tagged_words):\n",
    "    tags = [pair[1] for pair in train_bag]\n",
    "    count_t1 = len([t for t in tags if t==t1])\n",
    "    count_t2_t1 = 0\n",
    "    for index in range(len(tags)-1):\n",
    "        if tags[index]==t1 and tags[index+1] == t2:\n",
    "            count_t2_t1 += 1\n",
    "    return (count_t2_t1, count_t1)"
   ]
  },
  {
   "cell_type": "code",
   "execution_count": 13,
   "metadata": {},
   "outputs": [],
   "source": [
    "# creating t x t transition matrix of tags\n",
    "# each column is t2, each row is t1\n",
    "# thus M(i, j) represents P(tj given ti)\n",
    "\n",
    "tags_matrix = np.zeros((len(T), len(T)), dtype='float32')\n",
    "for i, t1 in enumerate(list(T)):\n",
    "    for j, t2 in enumerate(list(T)): \n",
    "        tags_matrix[i, j] = t2_given_t1(t2, t1)[0]/t2_given_t1(t2, t1)[1]"
   ]
  },
  {
   "cell_type": "code",
   "execution_count": 14,
   "metadata": {},
   "outputs": [
    {
     "data": {
      "text/plain": [
       "array([[7.45746568e-02, 2.54412461e-03, 1.73318498e-02, 1.01764984e-02,\n",
       "        1.83972016e-01, 6.23310544e-02, 5.56527264e-02, 2.04325005e-01,\n",
       "        2.54412461e-02, 1.65050089e-01, 5.54937199e-02, 1.43107012e-01],\n",
       "       [2.13713273e-01, 1.86405465e-01, 3.35411094e-02, 1.27634313e-02,\n",
       "        2.46363916e-02, 3.52330059e-01, 1.48411992e-03, 1.78094395e-02,\n",
       "        2.67141592e-03, 1.16058178e-01, 3.26506374e-03, 3.53220552e-02],\n",
       "       [2.07441561e-02, 2.07441561e-02, 6.45373687e-02, 1.66282523e-02,\n",
       "        1.02074416e-02, 7.00856090e-01, 6.58544595e-04, 1.16891665e-02,\n",
       "        4.60981252e-03, 6.58544600e-02, 4.60981252e-03, 7.88607150e-02],\n",
       "       [6.98649278e-03, 4.09874246e-02, 1.16441548e-01, 0.00000000e+00,\n",
       "        4.65766201e-03, 3.47461581e-01, 5.86865395e-02, 1.59757808e-01,\n",
       "        5.44946454e-02, 3.67955305e-02, 1.20633446e-01, 5.30973449e-02],\n",
       "       [1.31233595e-02, 5.38057759e-02, 8.49737525e-02, 2.29658792e-03,\n",
       "        1.64041994e-03, 2.48359576e-01, 1.90288723e-02, 4.01246727e-01,\n",
       "        1.04986876e-02, 4.33070883e-02, 1.00721784e-01, 2.09973752e-02],\n",
       "       [2.88966727e-02, 9.34033841e-03, 1.20767662e-02, 4.26882654e-02,\n",
       "        4.40747216e-02, 2.64849693e-01, 4.85259760e-03, 1.46599531e-01,\n",
       "        1.73307061e-02, 2.39565089e-01, 1.33537650e-02, 1.76371858e-01],\n",
       "       [9.20550004e-02, 7.25744851e-03, 7.37203956e-02, 4.96562244e-03,\n",
       "        1.26050422e-02, 2.07410231e-01, 7.25744851e-03, 4.87012982e-01,\n",
       "        3.39954160e-02, 4.04889211e-02, 9.93124489e-03, 2.33002286e-02],\n",
       "       [2.18107000e-01, 2.29831506e-02, 6.51448071e-02, 5.27991308e-03,\n",
       "        3.14465426e-02, 1.09635845e-01, 3.56394127e-02, 1.68957219e-01,\n",
       "        8.19162950e-02, 3.47076654e-02, 1.34948373e-01, 9.12337899e-02],\n",
       "       [2.31252071e-02, 3.23752873e-02, 1.30822599e-01, 6.93756202e-03,\n",
       "        1.45358443e-02, 3.13842073e-02, 1.45358443e-02, 3.41261983e-01,\n",
       "        8.02775025e-02, 1.37429804e-01, 6.90452605e-02, 1.18268915e-01],\n",
       "       [2.70586126e-02, 8.08162540e-02, 4.44084853e-02, 5.82524277e-02,\n",
       "        2.33728881e-03, 2.21952528e-01, 6.67925179e-02, 8.89967605e-02,\n",
       "        5.25889955e-02, 9.26824883e-02, 1.72959372e-01, 9.10643637e-02],\n",
       "       [4.60144915e-02, 2.27053147e-02, 2.05676332e-01, 4.83091775e-04,\n",
       "        2.41545888e-04, 6.36111140e-01, 3.50241549e-03, 3.97343002e-02,\n",
       "        1.30434781e-02, 1.75120775e-02, 5.79710165e-03, 9.17874370e-03],\n",
       "       [3.47556397e-02, 6.32018000e-02, 1.06405735e-01, 8.55523453e-04,\n",
       "        1.39022560e-03, 3.23387861e-01, 6.92974031e-02, 8.12747329e-03,\n",
       "        1.34744952e-02, 3.98887806e-02, 3.22318465e-01, 1.68965887e-02]],\n",
       "      dtype=float32)"
      ]
     },
     "execution_count": 14,
     "metadata": {},
     "output_type": "execute_result"
    }
   ],
   "source": [
    "tags_matrix"
   ]
  },
  {
   "cell_type": "code",
   "execution_count": 15,
   "metadata": {},
   "outputs": [],
   "source": [
    "# convert the matrix to a df for better readability\n",
    "tags_df = pd.DataFrame(tags_matrix, columns = list(T), index=list(T))"
   ]
  },
  {
   "cell_type": "code",
   "execution_count": 16,
   "metadata": {},
   "outputs": [
    {
     "data": {
      "text/html": [
       "<div>\n",
       "<style scoped>\n",
       "    .dataframe tbody tr th:only-of-type {\n",
       "        vertical-align: middle;\n",
       "    }\n",
       "\n",
       "    .dataframe tbody tr th {\n",
       "        vertical-align: top;\n",
       "    }\n",
       "\n",
       "    .dataframe thead th {\n",
       "        text-align: right;\n",
       "    }\n",
       "</style>\n",
       "<table border=\"1\" class=\"dataframe\">\n",
       "  <thead>\n",
       "    <tr style=\"text-align: right;\">\n",
       "      <th></th>\n",
       "      <th>X</th>\n",
       "      <th>NUM</th>\n",
       "      <th>ADJ</th>\n",
       "      <th>CONJ</th>\n",
       "      <th>PRT</th>\n",
       "      <th>NOUN</th>\n",
       "      <th>PRON</th>\n",
       "      <th>VERB</th>\n",
       "      <th>ADV</th>\n",
       "      <th>.</th>\n",
       "      <th>DET</th>\n",
       "      <th>ADP</th>\n",
       "    </tr>\n",
       "  </thead>\n",
       "  <tbody>\n",
       "    <tr>\n",
       "      <th>X</th>\n",
       "      <td>0.074575</td>\n",
       "      <td>0.002544</td>\n",
       "      <td>0.017332</td>\n",
       "      <td>0.010176</td>\n",
       "      <td>0.183972</td>\n",
       "      <td>0.062331</td>\n",
       "      <td>0.055653</td>\n",
       "      <td>0.204325</td>\n",
       "      <td>0.025441</td>\n",
       "      <td>0.165050</td>\n",
       "      <td>0.055494</td>\n",
       "      <td>0.143107</td>\n",
       "    </tr>\n",
       "    <tr>\n",
       "      <th>NUM</th>\n",
       "      <td>0.213713</td>\n",
       "      <td>0.186405</td>\n",
       "      <td>0.033541</td>\n",
       "      <td>0.012763</td>\n",
       "      <td>0.024636</td>\n",
       "      <td>0.352330</td>\n",
       "      <td>0.001484</td>\n",
       "      <td>0.017809</td>\n",
       "      <td>0.002671</td>\n",
       "      <td>0.116058</td>\n",
       "      <td>0.003265</td>\n",
       "      <td>0.035322</td>\n",
       "    </tr>\n",
       "    <tr>\n",
       "      <th>ADJ</th>\n",
       "      <td>0.020744</td>\n",
       "      <td>0.020744</td>\n",
       "      <td>0.064537</td>\n",
       "      <td>0.016628</td>\n",
       "      <td>0.010207</td>\n",
       "      <td>0.700856</td>\n",
       "      <td>0.000659</td>\n",
       "      <td>0.011689</td>\n",
       "      <td>0.004610</td>\n",
       "      <td>0.065854</td>\n",
       "      <td>0.004610</td>\n",
       "      <td>0.078861</td>\n",
       "    </tr>\n",
       "    <tr>\n",
       "      <th>CONJ</th>\n",
       "      <td>0.006986</td>\n",
       "      <td>0.040987</td>\n",
       "      <td>0.116442</td>\n",
       "      <td>0.000000</td>\n",
       "      <td>0.004658</td>\n",
       "      <td>0.347462</td>\n",
       "      <td>0.058687</td>\n",
       "      <td>0.159758</td>\n",
       "      <td>0.054495</td>\n",
       "      <td>0.036796</td>\n",
       "      <td>0.120633</td>\n",
       "      <td>0.053097</td>\n",
       "    </tr>\n",
       "    <tr>\n",
       "      <th>PRT</th>\n",
       "      <td>0.013123</td>\n",
       "      <td>0.053806</td>\n",
       "      <td>0.084974</td>\n",
       "      <td>0.002297</td>\n",
       "      <td>0.001640</td>\n",
       "      <td>0.248360</td>\n",
       "      <td>0.019029</td>\n",
       "      <td>0.401247</td>\n",
       "      <td>0.010499</td>\n",
       "      <td>0.043307</td>\n",
       "      <td>0.100722</td>\n",
       "      <td>0.020997</td>\n",
       "    </tr>\n",
       "    <tr>\n",
       "      <th>NOUN</th>\n",
       "      <td>0.028897</td>\n",
       "      <td>0.009340</td>\n",
       "      <td>0.012077</td>\n",
       "      <td>0.042688</td>\n",
       "      <td>0.044075</td>\n",
       "      <td>0.264850</td>\n",
       "      <td>0.004853</td>\n",
       "      <td>0.146600</td>\n",
       "      <td>0.017331</td>\n",
       "      <td>0.239565</td>\n",
       "      <td>0.013354</td>\n",
       "      <td>0.176372</td>\n",
       "    </tr>\n",
       "    <tr>\n",
       "      <th>PRON</th>\n",
       "      <td>0.092055</td>\n",
       "      <td>0.007257</td>\n",
       "      <td>0.073720</td>\n",
       "      <td>0.004966</td>\n",
       "      <td>0.012605</td>\n",
       "      <td>0.207410</td>\n",
       "      <td>0.007257</td>\n",
       "      <td>0.487013</td>\n",
       "      <td>0.033995</td>\n",
       "      <td>0.040489</td>\n",
       "      <td>0.009931</td>\n",
       "      <td>0.023300</td>\n",
       "    </tr>\n",
       "    <tr>\n",
       "      <th>VERB</th>\n",
       "      <td>0.218107</td>\n",
       "      <td>0.022983</td>\n",
       "      <td>0.065145</td>\n",
       "      <td>0.005280</td>\n",
       "      <td>0.031447</td>\n",
       "      <td>0.109636</td>\n",
       "      <td>0.035639</td>\n",
       "      <td>0.168957</td>\n",
       "      <td>0.081916</td>\n",
       "      <td>0.034708</td>\n",
       "      <td>0.134948</td>\n",
       "      <td>0.091234</td>\n",
       "    </tr>\n",
       "    <tr>\n",
       "      <th>ADV</th>\n",
       "      <td>0.023125</td>\n",
       "      <td>0.032375</td>\n",
       "      <td>0.130823</td>\n",
       "      <td>0.006938</td>\n",
       "      <td>0.014536</td>\n",
       "      <td>0.031384</td>\n",
       "      <td>0.014536</td>\n",
       "      <td>0.341262</td>\n",
       "      <td>0.080278</td>\n",
       "      <td>0.137430</td>\n",
       "      <td>0.069045</td>\n",
       "      <td>0.118269</td>\n",
       "    </tr>\n",
       "    <tr>\n",
       "      <th>.</th>\n",
       "      <td>0.027059</td>\n",
       "      <td>0.080816</td>\n",
       "      <td>0.044408</td>\n",
       "      <td>0.058252</td>\n",
       "      <td>0.002337</td>\n",
       "      <td>0.221953</td>\n",
       "      <td>0.066793</td>\n",
       "      <td>0.088997</td>\n",
       "      <td>0.052589</td>\n",
       "      <td>0.092682</td>\n",
       "      <td>0.172959</td>\n",
       "      <td>0.091064</td>\n",
       "    </tr>\n",
       "    <tr>\n",
       "      <th>DET</th>\n",
       "      <td>0.046014</td>\n",
       "      <td>0.022705</td>\n",
       "      <td>0.205676</td>\n",
       "      <td>0.000483</td>\n",
       "      <td>0.000242</td>\n",
       "      <td>0.636111</td>\n",
       "      <td>0.003502</td>\n",
       "      <td>0.039734</td>\n",
       "      <td>0.013043</td>\n",
       "      <td>0.017512</td>\n",
       "      <td>0.005797</td>\n",
       "      <td>0.009179</td>\n",
       "    </tr>\n",
       "    <tr>\n",
       "      <th>ADP</th>\n",
       "      <td>0.034756</td>\n",
       "      <td>0.063202</td>\n",
       "      <td>0.106406</td>\n",
       "      <td>0.000856</td>\n",
       "      <td>0.001390</td>\n",
       "      <td>0.323388</td>\n",
       "      <td>0.069297</td>\n",
       "      <td>0.008127</td>\n",
       "      <td>0.013474</td>\n",
       "      <td>0.039889</td>\n",
       "      <td>0.322318</td>\n",
       "      <td>0.016897</td>\n",
       "    </tr>\n",
       "  </tbody>\n",
       "</table>\n",
       "</div>"
      ],
      "text/plain": [
       "             X       NUM       ADJ      CONJ       PRT      NOUN      PRON  \\\n",
       "X     0.074575  0.002544  0.017332  0.010176  0.183972  0.062331  0.055653   \n",
       "NUM   0.213713  0.186405  0.033541  0.012763  0.024636  0.352330  0.001484   \n",
       "ADJ   0.020744  0.020744  0.064537  0.016628  0.010207  0.700856  0.000659   \n",
       "CONJ  0.006986  0.040987  0.116442  0.000000  0.004658  0.347462  0.058687   \n",
       "PRT   0.013123  0.053806  0.084974  0.002297  0.001640  0.248360  0.019029   \n",
       "NOUN  0.028897  0.009340  0.012077  0.042688  0.044075  0.264850  0.004853   \n",
       "PRON  0.092055  0.007257  0.073720  0.004966  0.012605  0.207410  0.007257   \n",
       "VERB  0.218107  0.022983  0.065145  0.005280  0.031447  0.109636  0.035639   \n",
       "ADV   0.023125  0.032375  0.130823  0.006938  0.014536  0.031384  0.014536   \n",
       ".     0.027059  0.080816  0.044408  0.058252  0.002337  0.221953  0.066793   \n",
       "DET   0.046014  0.022705  0.205676  0.000483  0.000242  0.636111  0.003502   \n",
       "ADP   0.034756  0.063202  0.106406  0.000856  0.001390  0.323388  0.069297   \n",
       "\n",
       "          VERB       ADV         .       DET       ADP  \n",
       "X     0.204325  0.025441  0.165050  0.055494  0.143107  \n",
       "NUM   0.017809  0.002671  0.116058  0.003265  0.035322  \n",
       "ADJ   0.011689  0.004610  0.065854  0.004610  0.078861  \n",
       "CONJ  0.159758  0.054495  0.036796  0.120633  0.053097  \n",
       "PRT   0.401247  0.010499  0.043307  0.100722  0.020997  \n",
       "NOUN  0.146600  0.017331  0.239565  0.013354  0.176372  \n",
       "PRON  0.487013  0.033995  0.040489  0.009931  0.023300  \n",
       "VERB  0.168957  0.081916  0.034708  0.134948  0.091234  \n",
       "ADV   0.341262  0.080278  0.137430  0.069045  0.118269  \n",
       ".     0.088997  0.052589  0.092682  0.172959  0.091064  \n",
       "DET   0.039734  0.013043  0.017512  0.005797  0.009179  \n",
       "ADP   0.008127  0.013474  0.039889  0.322318  0.016897  "
      ]
     },
     "execution_count": 16,
     "metadata": {},
     "output_type": "execute_result"
    }
   ],
   "source": [
    "tags_df"
   ]
  },
  {
   "cell_type": "code",
   "execution_count": 17,
   "metadata": {},
   "outputs": [
    {
     "data": {
      "text/plain": [
       "X       0.027059\n",
       "NUM     0.080816\n",
       "ADJ     0.044408\n",
       "CONJ    0.058252\n",
       "PRT     0.002337\n",
       "NOUN    0.221953\n",
       "PRON    0.066793\n",
       "VERB    0.088997\n",
       "ADV     0.052589\n",
       ".       0.092682\n",
       "DET     0.172959\n",
       "ADP     0.091064\n",
       "Name: ., dtype: float32"
      ]
     },
     "execution_count": 17,
     "metadata": {},
     "output_type": "execute_result"
    }
   ],
   "source": [
    "tags_df.loc['.', :]"
   ]
  },
  {
   "cell_type": "code",
   "execution_count": 18,
   "metadata": {},
   "outputs": [
    {
     "data": {
      "image/png": "[encoded data removed]",
      "text/plain": [
       "<Figure size 1296x864 with 2 Axes>"
      ]
     },
     "metadata": {},
     "output_type": "display_data"
    }
   ],
   "source": [
    "# heatmap of tags matrix\n",
    "# T(i, j) means P(tag j given tag i)\n",
    "plt.figure(figsize=(18, 12))\n",
    "sns.heatmap(tags_df)\n",
    "plt.show()\n"
   ]
  },
  {
   "cell_type": "code",
   "execution_count": 19,
   "metadata": {},
   "outputs": [
    {
     "data": {
      "image/png": "[encoded data removed]",
      "text/plain": [
       "<Figure size 1296x864 with 2 Axes>"
      ]
     },
     "metadata": {},
     "output_type": "display_data"
    }
   ],
   "source": [
    "# frequent tags\n",
    "# filter the df to get P(t2, t1) > 0.5\n",
    "tags_frequent = tags_df[tags_df>0.5]\n",
    "plt.figure(figsize=(18, 12))\n",
    "sns.heatmap(tags_frequent)\n",
    "plt.show()"
   ]
  },
  {
   "cell_type": "code",
   "execution_count": 20,
   "metadata": {},
   "outputs": [
    {
     "data": {
      "text/plain": [
       "95614"
      ]
     },
     "execution_count": 20,
     "metadata": {},
     "output_type": "execute_result"
    }
   ],
   "source": [
    "len(train_tagged_words)"
   ]
  },
  {
   "cell_type": "code",
   "execution_count": null,
   "metadata": {},
   "outputs": [],
   "source": []
  },
  {
   "cell_type": "markdown",
   "metadata": {},
   "source": [
    "### Build the vanilla Viterbi based POS tagger"
   ]
  },
  {
   "cell_type": "code",
   "execution_count": 21,
   "metadata": {},
   "outputs": [],
   "source": [
    "# Viterbi Heuristic\n",
    "def Viterbi(words, train_bag = train_tagged_words):\n",
    "    state = []\n",
    "    T = list(set([pair[1] for pair in train_bag]))\n",
    "    \n",
    "    for key, word in enumerate(words):\n",
    "        #initialise list of probability column for a given observation\n",
    "        p = [] \n",
    "        for tag in T:\n",
    "            if key == 0:\n",
    "                transition_p = tags_df.loc['.', tag]\n",
    "            else:\n",
    "                transition_p = tags_df.loc[state[-1], tag]\n",
    "                \n",
    "            # compute emission and state probabilities\n",
    "            emission_p = word_given_tag(words[key], tag)[0]/word_given_tag(words[key], tag)[1]\n",
    "            state_probability = emission_p * transition_p    \n",
    "            p.append(state_probability)\n",
    "            \n",
    "        pmax = max(p)\n",
    "        # getting state for which probability is maximum\n",
    "        state_max = T[p.index(pmax)] \n",
    "        state.append(state_max)\n",
    "    return list(zip(words, state))"
   ]
  },
  {
   "cell_type": "code",
   "execution_count": 22,
   "metadata": {},
   "outputs": [
    {
     "data": {
      "text/plain": [
       "[[('Mr.', 'NOUN'),\n",
       "  ('Stern', 'NOUN'),\n",
       "  ('was', 'VERB'),\n",
       "  ('chairman', 'NOUN'),\n",
       "  ('and', 'CONJ'),\n",
       "  ('chief', 'NOUN'),\n",
       "  ('executive', 'ADJ'),\n",
       "  ('officer', 'NOUN'),\n",
       "  ('of', 'ADP'),\n",
       "  ('the', 'DET'),\n",
       "  ('New', 'NOUN'),\n",
       "  ('York', 'NOUN'),\n",
       "  ('State', 'NOUN'),\n",
       "  ('Urban', 'NOUN'),\n",
       "  ('Development', 'NOUN'),\n",
       "  ('Corp.', 'NOUN'),\n",
       "  (',', '.'),\n",
       "  ('1983-85', 'NUM'),\n",
       "  ('.', '.')],\n",
       " [('The', 'DET'),\n",
       "  ('department', 'NOUN'),\n",
       "  (\"'s\", 'PRT'),\n",
       "  ('Occupational', 'NOUN'),\n",
       "  ('Safety', 'NOUN'),\n",
       "  ('and', 'CONJ'),\n",
       "  ('Health', 'NOUN'),\n",
       "  ('Administration', 'NOUN'),\n",
       "  ('proposed', 'VERB'),\n",
       "  ('fines', 'NOUN'),\n",
       "  ('of', 'ADP'),\n",
       "  ('$', '.'),\n",
       "  ('6.1', 'NUM'),\n",
       "  ('million', 'NUM'),\n",
       "  ('*U*', 'X'),\n",
       "  ('for', 'ADP'),\n",
       "  ('alleged', 'VERB'),\n",
       "  ('violations', 'NOUN'),\n",
       "  ('at', 'ADP'),\n",
       "  ('the', 'DET'),\n",
       "  ('company', 'NOUN'),\n",
       "  (\"'s\", 'PRT'),\n",
       "  ('Fairless', 'NOUN'),\n",
       "  ('Hills', 'NOUN'),\n",
       "  (',', '.'),\n",
       "  ('Pa.', 'NOUN'),\n",
       "  (',', '.'),\n",
       "  ('steel', 'NOUN'),\n",
       "  ('mill', 'NOUN'),\n",
       "  (';', '.'),\n",
       "  ('that', 'DET'),\n",
       "  ('was', 'VERB'),\n",
       "  ('a', 'DET'),\n",
       "  ('record', 'NOUN'),\n",
       "  ('for', 'ADP'),\n",
       "  ('proposed', 'VERB'),\n",
       "  ('penalties', 'NOUN'),\n",
       "  ('at', 'ADP'),\n",
       "  ('any', 'DET'),\n",
       "  ('single', 'ADJ'),\n",
       "  ('facility', 'NOUN'),\n",
       "  ('.', '.')],\n",
       " [('-LRB-', '.'),\n",
       "  ('Fewer', 'ADJ'),\n",
       "  ('said', 'VERB'),\n",
       "  ('0', 'X'),\n",
       "  ('conditions', 'NOUN'),\n",
       "  ('wo', 'VERB'),\n",
       "  (\"n't\", 'ADV'),\n",
       "  ('change', 'VERB'),\n",
       "  ('.', '.'),\n",
       "  ('-RRB-', '.')],\n",
       " [('``', '.'),\n",
       "  ('All', 'DET'),\n",
       "  ('of', 'ADP'),\n",
       "  ('these', 'DET'),\n",
       "  ('forces', 'NOUN'),\n",
       "  ('came', 'VERB'),\n",
       "  ('together', 'ADV'),\n",
       "  ('in', 'ADP'),\n",
       "  ('1988', 'NUM'),\n",
       "  ('*', 'X'),\n",
       "  ('to', 'PRT'),\n",
       "  ('benefit', 'VERB'),\n",
       "  ('agriculture', 'NOUN'),\n",
       "  (',', '.'),\n",
       "  (\"''\", '.'),\n",
       "  ('Mr.', 'NOUN'),\n",
       "  ('Collins', 'NOUN'),\n",
       "  ('said', 'VERB'),\n",
       "  ('*T*-1', 'X'),\n",
       "  ('.', '.')],\n",
       " [('His', 'PRON'),\n",
       "  ('wife', 'NOUN'),\n",
       "  ('also', 'ADV'),\n",
       "  ('works', 'VERB'),\n",
       "  ('for', 'ADP'),\n",
       "  ('the', 'DET'),\n",
       "  ('paper', 'NOUN'),\n",
       "  (',', '.'),\n",
       "  ('as', 'ADP'),\n",
       "  ('did', 'VERB'),\n",
       "  ('his', 'PRON'),\n",
       "  ('father', 'NOUN'),\n",
       "  ('.', '.')]]"
      ]
     },
     "execution_count": 22,
     "metadata": {},
     "output_type": "execute_result"
    }
   ],
   "source": [
    "# Running on entire test dataset would take more than 3-4hrs. \n",
    "# Let's test our Viterbi algorithm on a few sample sentences of test dataset\n",
    "\n",
    "random.seed(1234)\n",
    "\n",
    "# choose random 5 sents\n",
    "rndom = [random.randint(1,len(test_set)) for x in range(5)]\n",
    "\n",
    "# list of sents\n",
    "test_run = [test_set[i] for i in rndom]\n",
    "\n",
    "# list of tagged words\n",
    "test_run_base = [tup for sent in test_run for tup in sent]\n",
    "\n",
    "# list of untagged words\n",
    "test_tagged_words = [tup[0] for sent in test_run for tup in sent]\n",
    "test_run"
   ]
  },
  {
   "cell_type": "code",
   "execution_count": 23,
   "metadata": {},
   "outputs": [],
   "source": [
    "# tagging the test sentences\n",
    "start = time.time()\n",
    "tagged_seq = Viterbi(test_tagged_words)\n",
    "end = time.time()\n",
    "difference = end-start"
   ]
  },
  {
   "cell_type": "code",
   "execution_count": 24,
   "metadata": {},
   "outputs": [
    {
     "name": "stdout",
     "output_type": "stream",
     "text": [
      "Time taken in seconds:  19.62760853767395\n",
      "[('Mr.', 'NOUN'), ('Stern', 'X'), ('was', 'VERB'), ('chairman', 'NOUN'), ('and', 'CONJ'), ('chief', 'NOUN'), ('executive', 'NOUN'), ('officer', 'NOUN'), ('of', 'ADP'), ('the', 'DET'), ('New', 'NOUN'), ('York', 'NOUN'), ('State', 'NOUN'), ('Urban', 'X'), ('Development', 'NOUN'), ('Corp.', 'NOUN'), (',', '.'), ('1983-85', 'X'), ('.', '.'), ('The', 'DET'), ('department', 'NOUN'), (\"'s\", 'PRT'), ('Occupational', 'NOUN'), ('Safety', 'NOUN'), ('and', 'CONJ'), ('Health', 'NOUN'), ('Administration', 'NOUN'), ('proposed', 'VERB'), ('fines', 'NOUN'), ('of', 'ADP'), ('$', '.'), ('6.1', 'NUM'), ('million', 'NUM'), ('*U*', 'X'), ('for', 'ADP'), ('alleged', 'ADJ'), ('violations', 'NOUN'), ('at', 'ADP'), ('the', 'DET'), ('company', 'NOUN'), (\"'s\", 'PRT'), ('Fairless', 'NOUN'), ('Hills', 'NOUN'), (',', '.'), ('Pa.', 'NOUN'), (',', '.'), ('steel', 'NOUN'), ('mill', 'X'), (';', '.'), ('that', 'DET'), ('was', 'VERB'), ('a', 'DET'), ('record', 'NOUN'), ('for', 'ADP'), ('proposed', 'VERB'), ('penalties', 'NOUN'), ('at', 'ADP'), ('any', 'DET'), ('single', 'ADJ'), ('facility', 'NOUN'), ('.', '.'), ('-LRB-', '.'), ('Fewer', 'X'), ('said', 'VERB'), ('0', 'X'), ('conditions', 'NOUN'), ('wo', 'VERB'), (\"n't\", 'ADV'), ('change', 'VERB'), ('.', '.'), ('-RRB-', '.'), ('``', '.'), ('All', 'DET'), ('of', 'ADP'), ('these', 'DET'), ('forces', 'NOUN'), ('came', 'VERB'), ('together', 'ADV'), ('in', 'ADP'), ('1988', 'NUM'), ('*', 'X'), ('to', 'PRT'), ('benefit', 'VERB'), ('agriculture', 'X'), (',', '.'), (\"''\", '.'), ('Mr.', 'NOUN'), ('Collins', 'NOUN'), ('said', 'VERB'), ('*T*-1', 'X'), ('.', '.'), ('His', 'PRON'), ('wife', 'NOUN'), ('also', 'ADV'), ('works', 'NOUN'), ('for', 'ADP'), ('the', 'DET'), ('paper', 'NOUN'), (',', '.'), ('as', 'ADP'), ('did', 'VERB'), ('his', 'PRON'), ('father', 'NOUN'), ('.', '.')]\n"
     ]
    }
   ],
   "source": [
    "print(\"Time taken in seconds: \", difference)\n",
    "print(tagged_seq)\n",
    "#print(test_run_base)"
   ]
  },
  {
   "cell_type": "code",
   "execution_count": 25,
   "metadata": {},
   "outputs": [
    {
     "data": {
      "text/plain": [
       "0.9134615384615384"
      ]
     },
     "execution_count": 25,
     "metadata": {},
     "output_type": "execute_result"
    }
   ],
   "source": [
    "# accuracy\n",
    "check = [i for i, j in zip(tagged_seq, test_run_base) if i == j]\n",
    "accuracy_vanilla_viterbi = len(check)/len(tagged_seq)\n",
    "accuracy_vanilla_viterbi"
   ]
  },
  {
   "cell_type": "code",
   "execution_count": 26,
   "metadata": {},
   "outputs": [
    {
     "data": {
      "text/plain": [
       "[[('Mr.', 'NOUN'), (('Stern', 'X'), ('Stern', 'NOUN'))],\n",
       " [('chief', 'NOUN'), (('executive', 'NOUN'), ('executive', 'ADJ'))],\n",
       " [('State', 'NOUN'), (('Urban', 'X'), ('Urban', 'NOUN'))],\n",
       " [(',', '.'), (('1983-85', 'X'), ('1983-85', 'NUM'))],\n",
       " [('for', 'ADP'), (('alleged', 'ADJ'), ('alleged', 'VERB'))],\n",
       " [('steel', 'NOUN'), (('mill', 'X'), ('mill', 'NOUN'))],\n",
       " [('-LRB-', '.'), (('Fewer', 'X'), ('Fewer', 'ADJ'))],\n",
       " [('benefit', 'VERB'), (('agriculture', 'X'), ('agriculture', 'NOUN'))],\n",
       " [('also', 'ADV'), (('works', 'NOUN'), ('works', 'VERB'))]]"
      ]
     },
     "execution_count": 26,
     "metadata": {},
     "output_type": "execute_result"
    }
   ],
   "source": [
    "incorrect_tagged_vanilla_viterbi = [[test_run_base[i-1],j] for i, j in enumerate(zip(tagged_seq, test_run_base)) if j[0]!=j[1]]\n",
    "incorrect_tagged_vanilla_viterbi"
   ]
  },
  {
   "cell_type": "code",
   "execution_count": 27,
   "metadata": {},
   "outputs": [],
   "source": [
    "## Testing\n",
    "sentence_test = 'Google and Twitter made a deal in 2015 that gave Google access to Twitter\\'s firehose.'\n",
    "words = word_tokenize(sentence_test)\n",
    "\n",
    "start = time.time()\n",
    "tagged_seq = Viterbi(words)\n",
    "end = time.time()\n",
    "difference = end-start"
   ]
  },
  {
   "cell_type": "code",
   "execution_count": 28,
   "metadata": {},
   "outputs": [
    {
     "name": "stdout",
     "output_type": "stream",
     "text": [
      "[('Google', 'X'), ('and', 'CONJ'), ('Twitter', 'X'), ('made', 'VERB'), ('a', 'DET'), ('deal', 'NOUN'), ('in', 'ADP'), ('2015', 'X'), ('that', 'ADP'), ('gave', 'VERB'), ('Google', 'X'), ('access', 'NOUN'), ('to', 'PRT'), ('Twitter', 'X'), (\"'s\", 'PRT'), ('firehose', 'X'), ('.', '.')]\n",
      "3.2278506755828857\n"
     ]
    }
   ],
   "source": [
    "print(tagged_seq)\n",
    "print(difference)"
   ]
  },
  {
   "cell_type": "markdown",
   "metadata": {},
   "source": [
    "### Solve the problem of unknown words"
   ]
  },
  {
   "cell_type": "markdown",
   "metadata": {},
   "source": [
    "1. Use lexical techniqies on the same data to see if we get better <br>\n",
    "2. Use these to tag unknown words, then see if we get better.  \n",
    "\n"
   ]
  },
  {
   "cell_type": "markdown",
   "metadata": {},
   "source": [
    "Start with unigram tagger"
   ]
  },
  {
   "cell_type": "code",
   "execution_count": 29,
   "metadata": {},
   "outputs": [
    {
     "name": "stdout",
     "output_type": "stream",
     "text": [
      "0.9051758198340577\n"
     ]
    }
   ],
   "source": [
    "# Lexicon (or unigram tagger)\n",
    "unigram_tagger = nltk.UnigramTagger(train_set)\n",
    "accuracy_unigram_tagger = unigram_tagger.evaluate(test_set)\n",
    "print(accuracy_unigram_tagger)"
   ]
  },
  {
   "cell_type": "code",
   "execution_count": 30,
   "metadata": {},
   "outputs": [],
   "source": [
    "# specify patterns for tagging\n",
    "# example from the NLTK book\n",
    "patterns = [\n",
    "    (r'.*ing$', 'VBG'),              # gerund\n",
    "    (r'.*ed$', 'VBD'),               # past tense\n",
    "    (r'.*es$', 'VBZ'),               # 3rd singular present\n",
    "    (r'.*ould$', 'MD'),              # modals\n",
    "    (r'.*\\'s$', 'NN$'),              # possessive nouns\n",
    "    (r'.*s$', 'NNS'),                # plural nouns\n",
    "    (r'^-?[0-9]+(.[0-9]+)?$', 'CD'), # cardinal numbers\n",
    "    (r'.*', 'NN')                    # nouns\n",
    "]\n"
   ]
  },
  {
   "cell_type": "code",
   "execution_count": 31,
   "metadata": {},
   "outputs": [
    {
     "name": "stdout",
     "output_type": "stream",
     "text": [
      "0.9051758198340577\n"
     ]
    }
   ],
   "source": [
    "# rule based tagger\n",
    "rule_based_tagger = nltk.RegexpTagger(patterns)\n",
    "\n",
    "# lexicon backed up by the rule-based tagger\n",
    "lexicon_tagger = nltk.UnigramTagger(train_set, backoff=rule_based_tagger)\n",
    "\n",
    "accuracy_lexicon_tagger = lexicon_tagger.evaluate(test_set)\n",
    "print(accuracy_lexicon_tagger)"
   ]
  },
  {
   "cell_type": "markdown",
   "metadata": {},
   "source": [
    "Trigram tagger"
   ]
  },
  {
   "cell_type": "code",
   "execution_count": 32,
   "metadata": {},
   "outputs": [
    {
     "name": "stdout",
     "output_type": "stream",
     "text": [
      "0.9091268273409719\n"
     ]
    }
   ],
   "source": [
    "# Bigram and Trigram tagger\n",
    "bigram_tagger = nltk.BigramTagger(train_set,backoff=lexicon_tagger)\n",
    "bigram_tagger.evaluate(test_set)\n",
    "accuracy_bigram_tagger = bigram_tagger.evaluate(test_set)\n",
    "print(accuracy_bigram_tagger)"
   ]
  },
  {
   "cell_type": "code",
   "execution_count": 33,
   "metadata": {},
   "outputs": [
    {
     "name": "stdout",
     "output_type": "stream",
     "text": [
      "0.9091268273409719\n"
     ]
    }
   ],
   "source": [
    "trigram_tagger = nltk.TrigramTagger(train_set, backoff=bigram_tagger)\n",
    "trigram_tagger.evaluate(test_set)\n",
    "accuracy_trigram_tagger = trigram_tagger.evaluate(test_set)\n",
    "print(accuracy_trigram_tagger)"
   ]
  },
  {
   "cell_type": "markdown",
   "metadata": {},
   "source": [
    "Getting marginally better, but not by much. <br>\n",
    "Next lets see if we can use this for the unknown words \n"
   ]
  },
  {
   "cell_type": "markdown",
   "metadata": {},
   "source": [
    "Now to build this into viterbi, need to change the regex patterns to fit for the tags in our data (NOUN instead of NNS etc)  "
   ]
  },
  {
   "cell_type": "code",
   "execution_count": 34,
   "metadata": {},
   "outputs": [
    {
     "name": "stdout",
     "output_type": "stream",
     "text": [
      "{'X', 'NUM', 'ADJ', 'CONJ', 'PRT', 'NOUN', 'PRON', 'VERB', 'ADV', '.', 'DET', 'ADP'}\n"
     ]
    }
   ],
   "source": [
    "print(T)"
   ]
  },
  {
   "cell_type": "code",
   "execution_count": 35,
   "metadata": {},
   "outputs": [],
   "source": [
    "def trigram_tagger(word,train_set = train_set):\n",
    "    patterns1 = [\n",
    "    (r'.*ing$', 'VERB'),              # gerund\n",
    "    (r'.*ed$', 'VERB'),               # past tense\n",
    "    (r'.*es$', 'VERB'),               # 3rd singular present\n",
    "    (r'.*ould$', 'X'),              # modals\n",
    "    (r'.*\\'s$', 'NOUN'),              # possessive nouns\n",
    "    (r'.*s$', 'NOUN'),                # plural nouns\n",
    "    (r'^-?[0-9]+(.[0-9]+)?$', 'NUM'), # cardinal numbers\n",
    "    (r'.*', 'NOUN')                    # nouns\n",
    "    ]\n",
    "    regex_based_tagger = nltk.RegexpTagger(patterns1)\n",
    "\n",
    "    # trigram backed up by the regex tagger\n",
    "    trigram_regex_tagger = nltk.TrigramTagger(train_set, backoff=regex_based_tagger)\n",
    "    return trigram_regex_tagger.tag_sents([[(word)]])"
   ]
  },
  {
   "cell_type": "code",
   "execution_count": 36,
   "metadata": {},
   "outputs": [],
   "source": [
    "# viterbi with handling for unknown words from regex tagger\n",
    "\n",
    "def Viterbi_modified(words, train_bag = train_tagged_words):\n",
    "    state = []\n",
    "    T = list(set([pair[1] for pair in train_bag]))\n",
    "    \n",
    "    for key, word in enumerate(words):\n",
    "        # unknown words from trigram taggr\n",
    "        if word not in tokens:\n",
    "            unk_word_tag=trigram_tagger(word)\n",
    "            for sent in unk_word_tag:\n",
    "                for tup in sent:\n",
    "                    state.append(tup[1])\n",
    "        # rest remains same            \n",
    "        else:            \n",
    "            p = [] \n",
    "            for tag in T:\n",
    "                if key == 0:\n",
    "                    transition_p = tags_df.loc['.', tag]\n",
    "                else:\n",
    "                    transition_p = tags_df.loc[state[-1], tag]\n",
    "                \n",
    "            # compute emission and state probabilities\n",
    "                emission_p = word_given_tag(words[key], tag)[0]/word_given_tag(words[key], tag)[1]\n",
    "                state_probability = emission_p * transition_p    \n",
    "                p.append(state_probability)\n",
    "            \n",
    "            pmax = max(p)\n",
    "            # getting state for which probability is maximum\n",
    "            state_max = T[p.index(pmax)] \n",
    "            state.append(state_max)\n",
    "            \n",
    "    return list(zip(words, state))"
   ]
  },
  {
   "cell_type": "code",
   "execution_count": 37,
   "metadata": {},
   "outputs": [],
   "source": [
    "start = time.time()\n",
    "tagged_seq = Viterbi_modified(test_tagged_words)\n",
    "end = time.time()\n",
    "difference = end-start"
   ]
  },
  {
   "cell_type": "markdown",
   "metadata": {},
   "source": [
    "#### Evaluating tagging accuracy"
   ]
  },
  {
   "cell_type": "code",
   "execution_count": 38,
   "metadata": {},
   "outputs": [
    {
     "data": {
      "text/plain": [
       "['Mr.',\n",
       " 'Stern',\n",
       " 'was',\n",
       " 'chairman',\n",
       " 'and',\n",
       " 'chief',\n",
       " 'executive',\n",
       " 'officer',\n",
       " 'of',\n",
       " 'the',\n",
       " 'New',\n",
       " 'York',\n",
       " 'State',\n",
       " 'Urban',\n",
       " 'Development',\n",
       " 'Corp.',\n",
       " ',',\n",
       " '1983-85',\n",
       " '.',\n",
       " 'The',\n",
       " 'department',\n",
       " \"'s\",\n",
       " 'Occupational',\n",
       " 'Safety',\n",
       " 'and',\n",
       " 'Health',\n",
       " 'Administration',\n",
       " 'proposed',\n",
       " 'fines',\n",
       " 'of',\n",
       " '$',\n",
       " '6.1',\n",
       " 'million',\n",
       " '*U*',\n",
       " 'for',\n",
       " 'alleged',\n",
       " 'violations',\n",
       " 'at',\n",
       " 'the',\n",
       " 'company',\n",
       " \"'s\",\n",
       " 'Fairless',\n",
       " 'Hills',\n",
       " ',',\n",
       " 'Pa.',\n",
       " ',',\n",
       " 'steel',\n",
       " 'mill',\n",
       " ';',\n",
       " 'that',\n",
       " 'was',\n",
       " 'a',\n",
       " 'record',\n",
       " 'for',\n",
       " 'proposed',\n",
       " 'penalties',\n",
       " 'at',\n",
       " 'any',\n",
       " 'single',\n",
       " 'facility',\n",
       " '.',\n",
       " '-LRB-',\n",
       " 'Fewer',\n",
       " 'said',\n",
       " '0',\n",
       " 'conditions',\n",
       " 'wo',\n",
       " \"n't\",\n",
       " 'change',\n",
       " '.',\n",
       " '-RRB-',\n",
       " '``',\n",
       " 'All',\n",
       " 'of',\n",
       " 'these',\n",
       " 'forces',\n",
       " 'came',\n",
       " 'together',\n",
       " 'in',\n",
       " '1988',\n",
       " '*',\n",
       " 'to',\n",
       " 'benefit',\n",
       " 'agriculture',\n",
       " ',',\n",
       " \"''\",\n",
       " 'Mr.',\n",
       " 'Collins',\n",
       " 'said',\n",
       " '*T*-1',\n",
       " '.',\n",
       " 'His',\n",
       " 'wife',\n",
       " 'also',\n",
       " 'works',\n",
       " 'for',\n",
       " 'the',\n",
       " 'paper',\n",
       " ',',\n",
       " 'as',\n",
       " 'did',\n",
       " 'his',\n",
       " 'father',\n",
       " '.']"
      ]
     },
     "execution_count": 38,
     "metadata": {},
     "output_type": "execute_result"
    }
   ],
   "source": [
    "\n",
    "test_run_base = [tup for sent in test_run for tup in sent]\n",
    "\n",
    "# list of untagged words\n",
    "test_tagged_words = [tup[0] for sent in test_run for tup in sent]\n",
    "test_tagged_words"
   ]
  },
  {
   "cell_type": "code",
   "execution_count": 39,
   "metadata": {},
   "outputs": [],
   "source": [
    "# tagging the test sentences\n",
    "start = time.time()\n",
    "tagged_seq_modified = Viterbi_modified(test_tagged_words)\n",
    "end = time.time()\n",
    "difference = end-start"
   ]
  },
  {
   "cell_type": "code",
   "execution_count": 40,
   "metadata": {},
   "outputs": [
    {
     "name": "stdout",
     "output_type": "stream",
     "text": [
      "Time taken in seconds:  30.6696298122406\n",
      "[('Mr.', 'NOUN'), ('Stern', 'NOUN'), ('was', 'VERB'), ('chairman', 'NOUN'), ('and', 'CONJ'), ('chief', 'NOUN'), ('executive', 'NOUN'), ('officer', 'NOUN'), ('of', 'ADP'), ('the', 'DET'), ('New', 'NOUN'), ('York', 'NOUN'), ('State', 'NOUN'), ('Urban', 'NOUN'), ('Development', 'NOUN'), ('Corp.', 'NOUN'), (',', '.'), ('1983-85', 'NUM'), ('.', '.'), ('The', 'DET'), ('department', 'NOUN'), (\"'s\", 'PRT'), ('Occupational', 'NOUN'), ('Safety', 'NOUN'), ('and', 'CONJ'), ('Health', 'NOUN'), ('Administration', 'NOUN'), ('proposed', 'VERB'), ('fines', 'NOUN'), ('of', 'ADP'), ('$', '.'), ('6.1', 'NUM'), ('million', 'NUM'), ('*U*', 'X'), ('for', 'ADP'), ('alleged', 'ADJ'), ('violations', 'NOUN'), ('at', 'ADP'), ('the', 'DET'), ('company', 'NOUN'), (\"'s\", 'PRT'), ('Fairless', 'NOUN'), ('Hills', 'NOUN'), (',', '.'), ('Pa.', 'NOUN'), (',', '.'), ('steel', 'NOUN'), ('mill', 'NOUN'), (';', '.'), ('that', 'DET'), ('was', 'VERB'), ('a', 'DET'), ('record', 'NOUN'), ('for', 'ADP'), ('proposed', 'VERB'), ('penalties', 'NOUN'), ('at', 'ADP'), ('any', 'DET'), ('single', 'ADJ'), ('facility', 'NOUN'), ('.', '.'), ('-LRB-', '.'), ('Fewer', 'NOUN'), ('said', 'VERB'), ('0', 'X'), ('conditions', 'NOUN'), ('wo', 'VERB'), (\"n't\", 'ADV'), ('change', 'VERB'), ('.', '.'), ('-RRB-', '.'), ('``', '.'), ('All', 'DET'), ('of', 'ADP'), ('these', 'DET'), ('forces', 'NOUN'), ('came', 'VERB'), ('together', 'ADV'), ('in', 'ADP'), ('1988', 'NUM'), ('*', 'X'), ('to', 'PRT'), ('benefit', 'VERB'), ('agriculture', 'NOUN'), (',', '.'), (\"''\", '.'), ('Mr.', 'NOUN'), ('Collins', 'NOUN'), ('said', 'VERB'), ('*T*-1', 'X'), ('.', '.'), ('His', 'PRON'), ('wife', 'NOUN'), ('also', 'ADV'), ('works', 'NOUN'), ('for', 'ADP'), ('the', 'DET'), ('paper', 'NOUN'), (',', '.'), ('as', 'ADP'), ('did', 'VERB'), ('his', 'PRON'), ('father', 'NOUN'), ('.', '.')]\n"
     ]
    }
   ],
   "source": [
    "print(\"Time taken in seconds: \", difference)\n",
    "print(tagged_seq_modified)\n",
    "#print(test_run_base)"
   ]
  },
  {
   "cell_type": "code",
   "execution_count": 41,
   "metadata": {},
   "outputs": [
    {
     "data": {
      "text/plain": [
       "0.9615384615384616"
      ]
     },
     "execution_count": 41,
     "metadata": {},
     "output_type": "execute_result"
    }
   ],
   "source": [
    "# accuracy\n",
    "check1 = [i for i, j in zip(tagged_seq_modified, test_run_base) if i == j]\n",
    "accuracy_viterbi_modified = len(check1)/len(tagged_seq_modified)\n",
    "accuracy_viterbi_modified"
   ]
  },
  {
   "cell_type": "code",
   "execution_count": null,
   "metadata": {},
   "outputs": [],
   "source": []
  },
  {
   "cell_type": "markdown",
   "metadata": {},
   "source": [
    "### Compare the tagging accuracies of the modifications with the vanilla Viterbi algorithm"
   ]
  },
  {
   "cell_type": "code",
   "execution_count": 42,
   "metadata": {},
   "outputs": [
    {
     "name": "stdout",
     "output_type": "stream",
     "text": [
      "0.9134615384615384\n"
     ]
    }
   ],
   "source": [
    "print(accuracy_vanilla_viterbi)"
   ]
  },
  {
   "cell_type": "code",
   "execution_count": 43,
   "metadata": {},
   "outputs": [
    {
     "name": "stdout",
     "output_type": "stream",
     "text": [
      "0.9051758198340577\n"
     ]
    }
   ],
   "source": [
    "print(accuracy_unigram_tagger)"
   ]
  },
  {
   "cell_type": "code",
   "execution_count": 44,
   "metadata": {},
   "outputs": [
    {
     "name": "stdout",
     "output_type": "stream",
     "text": [
      "0.9091268273409719\n"
     ]
    }
   ],
   "source": [
    "print(accuracy_bigram_tagger)"
   ]
  },
  {
   "cell_type": "code",
   "execution_count": 45,
   "metadata": {},
   "outputs": [
    {
     "name": "stdout",
     "output_type": "stream",
     "text": [
      "0.9051758198340577\n"
     ]
    }
   ],
   "source": [
    "print(accuracy_lexicon_tagger)"
   ]
  },
  {
   "cell_type": "code",
   "execution_count": 46,
   "metadata": {},
   "outputs": [
    {
     "name": "stdout",
     "output_type": "stream",
     "text": [
      "0.9615384615384616\n"
     ]
    }
   ],
   "source": [
    "print(accuracy_viterbi_modified)"
   ]
  },
  {
   "cell_type": "markdown",
   "metadata": {},
   "source": [
    "### List down cases which were incorrectly tagged by original POS tagger and got corrected by your modifications"
   ]
  },
  {
   "cell_type": "code",
   "execution_count": 47,
   "metadata": {},
   "outputs": [
    {
     "name": "stdout",
     "output_type": "stream",
     "text": [
      "[('Google', 'X'), ('and', 'CONJ'), ('Twitter', 'X'), ('made', 'VERB'), ('a', 'DET'), ('deal', 'NOUN'), ('in', 'ADP'), ('2015', 'X'), ('that', 'ADP'), ('gave', 'VERB'), ('Google', 'X'), ('access', 'NOUN'), ('to', 'PRT'), ('Twitter', 'X'), (\"'s\", 'PRT'), ('firehose', 'X'), ('.', '.')]\n"
     ]
    }
   ],
   "source": [
    "## Testing\n",
    "sentence_test1 = 'Google and Twitter made a deal in 2015 that gave Google access to Twitter\\'s firehose.'\n",
    "words = word_tokenize(sentence_test1)\n",
    "tagged_seq = Viterbi(words)\n",
    "print(tagged_seq)"
   ]
  },
  {
   "cell_type": "code",
   "execution_count": 48,
   "metadata": {},
   "outputs": [
    {
     "name": "stdout",
     "output_type": "stream",
     "text": [
      "[('Google', 'NOUN'), ('and', 'CONJ'), ('Twitter', 'NOUN'), ('made', 'VERB'), ('a', 'DET'), ('deal', 'NOUN'), ('in', 'ADP'), ('2015', 'NUM'), ('that', 'ADP'), ('gave', 'VERB'), ('Google', 'NOUN'), ('access', 'NOUN'), ('to', 'PRT'), ('Twitter', 'NOUN'), (\"'s\", 'PRT'), ('firehose', 'NOUN'), ('.', '.')]\n"
     ]
    }
   ],
   "source": [
    "tagged_seq_modified = Viterbi_modified(words)\n",
    "print(tagged_seq_modified)"
   ]
  },
  {
   "cell_type": "code",
   "execution_count": 49,
   "metadata": {},
   "outputs": [
    {
     "name": "stdout",
     "output_type": "stream",
     "text": [
      "[('Android', 'X'), ('has', 'VERB'), ('been', 'VERB'), ('the', 'DET'), ('best-selling', 'ADJ'), ('OS', 'X'), ('worldwide', 'X'), ('on', 'ADP'), ('smartphones', 'X'), ('since', 'ADP'), ('2011', 'X'), ('and', 'CONJ'), ('on', 'ADP'), ('tablets', 'NOUN'), ('since', 'ADP'), ('2013', 'X'), ('.', '.')]\n"
     ]
    }
   ],
   "source": [
    "sentence_test2='Android has been the best-selling OS worldwide on smartphones since 2011 and on tablets since 2013.'\n",
    "words = word_tokenize(sentence_test2)\n",
    "tagged_seq = Viterbi(words)\n",
    "print(tagged_seq)"
   ]
  },
  {
   "cell_type": "code",
   "execution_count": 50,
   "metadata": {},
   "outputs": [
    {
     "name": "stdout",
     "output_type": "stream",
     "text": [
      "[('Android', 'NOUN'), ('has', 'VERB'), ('been', 'VERB'), ('the', 'DET'), ('best-selling', 'ADJ'), ('OS', 'NOUN'), ('worldwide', 'NOUN'), ('on', 'ADP'), ('smartphones', 'VERB'), ('since', 'ADP'), ('2011', 'NUM'), ('and', 'CONJ'), ('on', 'ADP'), ('tablets', 'NOUN'), ('since', 'ADP'), ('2013', 'NUM'), ('.', '.')]\n"
     ]
    }
   ],
   "source": [
    "tagged_seq_modified = Viterbi_modified(words)\n",
    "print(tagged_seq_modified)"
   ]
  },
  {
   "cell_type": "code",
   "execution_count": 51,
   "metadata": {},
   "outputs": [
    {
     "name": "stdout",
     "output_type": "stream",
     "text": [
      "[('I', 'PRON'), ('Instagrammed', 'X'), ('a', 'DET'), ('Facebook', 'X'), ('post', 'VERB'), ('taken', 'VERB'), ('from', 'ADP'), ('Android', 'X'), ('smartphone', 'X'), ('and', 'CONJ'), ('uploaded', 'X'), ('results', 'NOUN'), ('to', 'PRT'), ('Youtube', 'X'), ('.', '.')]\n"
     ]
    }
   ],
   "source": [
    "sentence_test3='I Instagrammed a Facebook post taken from Android smartphone and uploaded results to Youtube.'\n",
    "words = word_tokenize(sentence_test3)\n",
    "tagged_seq = Viterbi(words)\n",
    "print(tagged_seq)"
   ]
  },
  {
   "cell_type": "code",
   "execution_count": 52,
   "metadata": {},
   "outputs": [
    {
     "name": "stdout",
     "output_type": "stream",
     "text": [
      "[('I', 'PRON'), ('Instagrammed', 'VERB'), ('a', 'DET'), ('Facebook', 'NOUN'), ('post', 'NOUN'), ('taken', 'VERB'), ('from', 'ADP'), ('Android', 'NOUN'), ('smartphone', 'NOUN'), ('and', 'CONJ'), ('uploaded', 'VERB'), ('results', 'NOUN'), ('to', 'PRT'), ('Youtube', 'NOUN'), ('.', '.')]\n"
     ]
    }
   ],
   "source": [
    "tagged_seq_modified = Viterbi_modified(words)\n",
    "print(tagged_seq_modified)"
   ]
  },
  {
   "cell_type": "markdown",
   "metadata": {},
   "source": [
    "We see the new words - Youtube, Facebook, smartphone going from X to NOUN. We alse see the verb of Instagrammed,uploaded getting recognised correctly"
   ]
  },
  {
   "cell_type": "code",
   "execution_count": null,
   "metadata": {},
   "outputs": [],
   "source": []
  }
 ],
 "metadata": {
  "kernelspec": {
   "display_name": "Python 3",
   "language": "python",
   "name": "python3"
  },
  "language_info": {
   "codemirror_mode": {
    "name": "ipython",
    "version": 3
   },
   "file_extension": ".py",
   "mimetype": "text/x-python",
   "name": "python",
   "nbconvert_exporter": "python",
   "pygments_lexer": "ipython3",
   "version": "3.6.5"
  }
 },
 "nbformat": 4,
 "nbformat_minor": 2
}
